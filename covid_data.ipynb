{
 "cells": [
  {
   "cell_type": "code",
   "execution_count": 33,
   "source": [
    "# IMporting Dependencies\r\n",
    "import pandas as pd\r\n",
    "from sqlalchemy import create_engine\r\n",
    "import sqlite3"
   ],
   "outputs": [],
   "metadata": {}
  },
  {
   "cell_type": "code",
   "execution_count": 34,
   "source": [
    "# Creating a sqlite databse file in the exisitng folder\r\n",
    "engine = create_engine('sqlite://', echo=False)\r\n",
    "conn = sqlite3.connect(\"covid.sqlite\")"
   ],
   "outputs": [],
   "metadata": {}
  },
  {
   "cell_type": "code",
   "execution_count": 35,
   "source": [
    "# Using CDC provided api's to load data in dataframe \r\n",
    "# The link is to the CDC's covid tracker file that is updated weekly\r\n",
    "json_file = \"https://data.cdc.gov/resource/n8mc-b4w4.json\"\r\n",
    "covid_df = pd.read_json(json_file)\r\n",
    "# Dropping columns that are not required\r\n",
    "covid_df=covid_df.drop(columns=['county_fips_code', 'state_fips_code'])\r\n",
    "#Pushing data to the sqlite databse file\r\n",
    "covid_df.to_sql('covid_tracker', con=conn, if_exists=\"replace\")"
   ],
   "outputs": [],
   "metadata": {}
  },
  {
   "cell_type": "code",
   "execution_count": 36,
   "source": [
    "#The following json file shows vaccine adminstration data for each State and also provides population statistics for the same\r\n",
    "json_file = \"https://data.cdc.gov/resource/8xkx-amqh.json\"\r\n",
    "admin = pd.read_json(json_file)\r\n",
    "admin=admin.drop(columns=[\"fips\", \"mmwr_week\", \"recip_county\", \"completeness_pct\",\"series_complete_pop_pct_svi\",\"series_complete_12pluspop_pct_svi\",\"series_complete_18pluspop_pct_svi\",\"series_complete_65pluspop_pct_svi\"])\r\n",
    "admin=admin.rename(columns={\"recip_state\":\"State\", \r\n",
    "                            \"series_complete_pop_pct\":\"%_Population_Vaccinated\", \r\n",
    "                            \"series_complete_yes\":\"Total_Population_Vaccinated\",\r\n",
    "                            \"series_complete_12plus\":\"Vaccinated_Population_Age12to17\", \r\n",
    "                            \"series_complete_12pluspop\":\"%_Population_Vaccinated_Age12to17\", \r\n",
    "                            \"series_complete_18plus\":\"Vaccinated_Population_Age18to64\",\r\n",
    "                            \"series_complete_18pluspop\":\"%_Population_Vaccinated_Age18to64\",\r\n",
    "                            \"series_complete_65plus\":\"Vaccinated_Population_Age65andup\",\r\n",
    "                            \"series_complete_65pluspop\":\"%_Population_Vaccinated_Age65andup\",\r\n",
    "                            \"administered_dose1_recip\":\"1st_dose_administered\",\r\n",
    "                            \"administered_dose1_pop_pct\":\"%_Population_1st_dose_administered\",\r\n",
    "                            \"administered_dose1_recip_12plus\":\"Population_1st_dose_administered_Age12to17\",\r\n",
    "                            \"administered_dose1_recip_12pluspop_pct\":\"%_Population_1st_dose_administered_Age12to17\",\r\n",
    "                            \"administered_dose1_recip_18plus\":\"Population_1st_dose_administered_Age18to64\",\r\n",
    "                            \"administered_dose1_recip_18pluspop_pct\":\"%_Population_1st_dose_administered_Age18to64\",\r\n",
    "                            \"administered_dose1_recip_65plus\":\"Population_1st_dose_administered_Age65andup\",\r\n",
    "                            \"administered_dose1_recip_65pluspop_pct\":\"%_Population_1st_dose_administered_Age65andup\",\r\n",
    "                            \"svi_ctgy\":\"Social_Vulnerability_Index\"})\r\n",
    "admin=admin.groupby('State').sum()\r\n",
    "admin.to_sql('vaccine_administration', con=conn, if_exists=\"replace\")"
   ],
   "outputs": [],
   "metadata": {}
  },
  {
   "cell_type": "code",
   "execution_count": 37,
   "source": [
    "# The following is the moderna vaccine allocation by state file provided by the CDC\r\n",
    "json_file = \"https://data.cdc.gov/resource/b7pe-5nws.json\"\r\n",
    "moderna_df = pd.read_json(json_file)\r\n",
    "moderna_df=moderna_df.rename(columns={\"_1st_dose_allocations\":\"Moderna_1st_allocations\", \"_2nd_dose_allocations\":\"Moderna_2nd_allocations\"})\r\n",
    "# Grouping by jurisdiction to obtain the total allocation of vaccine\r\n",
    "moderna_df=moderna_df.groupby([\"jurisdiction\"]).sum()"
   ],
   "outputs": [],
   "metadata": {}
  },
  {
   "cell_type": "code",
   "execution_count": 38,
   "source": [
    "# The following is the pfizer vaccine allocation by state file provided by the CDC\r\n",
    "json_file = \"https://data.cdc.gov/resource/saz5-9hgg.json\"\r\n",
    "pfizer_df = pd.read_json(json_file)\r\n",
    "pfizer_df=pfizer_df.rename(columns={\"_1st_dose_allocations\":\"Pfizer_1st_allocations\", \"_2nd_dose_allocations\":\"Pfizer_2nd_allocations\"})\r\n",
    "pfizer_df=pfizer_df.groupby([\"jurisdiction\"]).sum()"
   ],
   "outputs": [],
   "metadata": {}
  },
  {
   "cell_type": "code",
   "execution_count": 39,
   "source": [
    "# The following is the Johnson vaccine allocation by state file provided by the CDC\r\n",
    "json_file = \"https://data.cdc.gov/resource/w9zu-fywh.json\"\r\n",
    "jnj = pd.read_json(json_file)\r\n",
    "jnj=jnj.rename(columns={\"_1st_dose_allocations\":\"J&J_1st_allocations\"})\r\n",
    "jnj=jnj.groupby([\"jurisdiction\"]).sum()"
   ],
   "outputs": [],
   "metadata": {}
  },
  {
   "cell_type": "code",
   "execution_count": 40,
   "source": [
    "#Merging moderna and pfizer and Johnson dataframes to show total allocations\r\n",
    "vaccine_df=pfizer_df.merge(moderna_df, how=\"outer\", on=\"jurisdiction\")\r\n",
    "vaccine_df=vaccine_df.merge(jnj,how=\"outer\", on=\"jurisdiction\")\r\n",
    "vaccine_df.to_sql('vaccine_allocation', con=conn, if_exists=\"replace\")"
   ],
   "outputs": [],
   "metadata": {}
  },
  {
   "cell_type": "code",
   "execution_count": 41,
   "source": [
    "# The following table show the number of deaths caused by covid and biforcates data by age group and underlying conditions and also provides the name of the state in which the tragedy occured\r\n",
    "\r\n",
    "json_file = \"https://data.cdc.gov/resource/hk9y-quqm.json\"\r\n",
    "cond_1_df = pd.read_json(json_file)\r\n",
    "cond_2_df = cond_1_df.drop(columns=[\"data_as_of\", \"start_date\", \"end_date\", \"group\", \"icd10_codes\", \"flag\", \"number_of_mentions\"])\r\n",
    "cond_2_df.to_sql('covid_death_tracker', con=conn, if_exists=\"replace\")"
   ],
   "outputs": [],
   "metadata": {
    "scrolled": true
   }
  },
  {
   "cell_type": "code",
   "execution_count": 42,
   "source": [
    "# The following csv is for the population records of America obtained from the census bureau website\r\n",
    "csv_file = \"population.csv\"\r\n",
    "population_df = pd.read_csv(csv_file)\r\n",
    "pop_1_df=population_df.drop(columns=[\"growthSince2010\", \"Pop2010\", \"Pop2018\"])\r\n",
    "pop_2_df=pop_1_df.rename(columns={\"Percent\":\"Percent of United States\", \"density\":\"Density per square mile\"})\r\n",
    "pop_2_df.to_sql('population', con=conn, if_exists=\"replace\")"
   ],
   "outputs": [
    {
     "output_type": "stream",
     "name": "stderr",
     "text": [
      "C:\\Users\\aarvi\\anaconda3\\lib\\site-packages\\pandas\\core\\generic.py:2605: UserWarning: The spaces in these column names will not be changed. In pandas versions < 0.14, spaces were converted to underscores.\n",
      "  sql.to_sql(\n"
     ]
    }
   ],
   "metadata": {}
  },
  {
   "cell_type": "code",
   "execution_count": 43,
   "source": [
    "# the following is a json file that includes the state names and their abbreviateions\r\n",
    "json_file = \"data.json\"\r\n",
    "states_df = pd.read_json(json_file)\r\n",
    "states_clean_df = states_df.drop(columns=\"Abbrev\")\r\n",
    "states_clean_df.to_sql('state_names', con=conn, if_exists=\"replace\")"
   ],
   "outputs": [],
   "metadata": {}
  },
  {
   "cell_type": "code",
   "execution_count": 44,
   "source": [
    "# verifying data pushed to sqlite file\r\n",
    "engine = create_engine(\"sqlite:///covid.sqlite\")\r\n",
    "engine.execute(\"Select * From state_names\").fetchall()"
   ],
   "outputs": [
    {
     "output_type": "execute_result",
     "data": {
      "text/plain": [
       "[(0, 'Alabama', 'AL'),\n",
       " (1, 'Alaska', 'AK'),\n",
       " (2, 'Arizona', 'AZ'),\n",
       " (3, 'Arkansas', 'AR'),\n",
       " (4, 'California', 'CA'),\n",
       " (5, 'Colorado', 'CO'),\n",
       " (6, 'Connecticut', 'CT'),\n",
       " (7, 'Delaware', 'DE'),\n",
       " (8, 'District of Columbia', 'DC'),\n",
       " (9, 'Florida', 'FL'),\n",
       " (10, 'Georgia', 'GA'),\n",
       " (11, 'Hawaii', 'HI'),\n",
       " (12, 'Idaho', 'ID'),\n",
       " (13, 'Illinois', 'IL'),\n",
       " (14, 'Indiana', 'IN'),\n",
       " (15, 'Iowa', 'IA'),\n",
       " (16, 'Kansas', 'KS'),\n",
       " (17, 'Kentucky', 'KY'),\n",
       " (18, 'Louisiana', 'LA'),\n",
       " (19, 'Maine', 'ME'),\n",
       " (20, 'Maryland', 'MD'),\n",
       " (21, 'Massachusetts', 'MA'),\n",
       " (22, 'Michigan', 'MI'),\n",
       " (23, 'Minnesota', 'MN'),\n",
       " (24, 'Mississippi', 'MS'),\n",
       " (25, 'Missouri', 'MO'),\n",
       " (26, 'Montana', 'MT'),\n",
       " (27, 'Nebraska', 'NE'),\n",
       " (28, 'Nevada', 'NV'),\n",
       " (29, 'New Hampshire', 'NH'),\n",
       " (30, 'New Jersey', 'NJ'),\n",
       " (31, 'New Mexico', 'NM'),\n",
       " (32, 'New York', 'NY'),\n",
       " (33, 'North Carolina', 'NC'),\n",
       " (34, 'North Dakota', 'ND'),\n",
       " (35, 'Ohio', 'OH'),\n",
       " (36, 'Oklahoma', 'OK'),\n",
       " (37, 'Oregon', 'OR'),\n",
       " (38, 'Pennsylvania', 'PA'),\n",
       " (39, 'Rhode Island', 'RI'),\n",
       " (40, 'South Carolina', 'SC'),\n",
       " (41, 'South Dakota', 'SD'),\n",
       " (42, 'Tennessee', 'TN'),\n",
       " (43, 'Texas', 'TX'),\n",
       " (44, 'Utah', 'UT'),\n",
       " (45, 'Vermont', 'VT'),\n",
       " (46, 'Virginia', 'VA'),\n",
       " (47, 'Washington', 'WA'),\n",
       " (48, 'West Virginia', 'WV'),\n",
       " (49, 'Wisconsin', 'WI'),\n",
       " (50, 'Wyoming', 'WY')]"
      ]
     },
     "metadata": {},
     "execution_count": 44
    }
   ],
   "metadata": {}
  },
  {
   "cell_type": "code",
   "execution_count": null,
   "source": [],
   "outputs": [],
   "metadata": {}
  }
 ],
 "metadata": {
  "kernelspec": {
   "display_name": "Python 3",
   "language": "python",
   "name": "python3"
  },
  "language_info": {
   "codemirror_mode": {
    "name": "ipython",
    "version": 3
   },
   "file_extension": ".py",
   "mimetype": "text/x-python",
   "name": "python",
   "nbconvert_exporter": "python",
   "pygments_lexer": "ipython3",
   "version": "3.8.5"
  }
 },
 "nbformat": 4,
 "nbformat_minor": 4
}