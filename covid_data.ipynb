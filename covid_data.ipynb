{
 "cells": [
  {
   "cell_type": "code",
   "execution_count": 5,
   "metadata": {},
   "outputs": [],
   "source": [
    "# IMporting Dependencies\n",
    "import pandas as pd\n",
    "from sqlalchemy import create_engine\n",
    "import sqlite3"
   ]
  },
  {
   "cell_type": "code",
   "execution_count": 6,
   "metadata": {},
   "outputs": [],
   "source": [
    "# Creating a sqlite databse file in the exisitng folder\n",
    "engine = create_engine('sqlite://', echo=False)\n",
    "conn = sqlite3.connect(\"covid.sqlite\")"
   ]
  },
  {
   "cell_type": "code",
   "execution_count": 22,
   "metadata": {},
   "outputs": [],
   "source": [
    "# Using CDC provided api's to load data in dataframe \n",
    "# The link is to the CDC's covid tracker file that is updated weekly\n",
    "json_file = \"https://data.cdc.gov/resource/n8mc-b4w4.json\"\n",
    "covid_df = pd.read_json(json_file)\n",
    "# Dropping columns that are not required\n",
    "covid_df=covid_df.drop(columns=['county_fips_code', 'state_fips_code',\"sex\",\"race\",\"ethnicity\",\"case_positive_specimen\",\"case_onset_interval\",\"process\",\"exposure_yn\"])\n",
    "#Pushing data to the sqlite databse file\n",
    "covid_df.to_sql('covid_tracker', con=conn, if_exists=\"replace\")"
   ]
  },
  {
   "cell_type": "code",
   "execution_count": 21,
   "metadata": {},
   "outputs": [],
   "source": [
    "#The following json file shows vaccine adminstration data for each State and also provides population statistics for the same\n",
    "json_file = \"https://data.cdc.gov/resource/8xkx-amqh.json\"\n",
    "admin = pd.read_json(json_file)\n",
    "admin=admin.drop(columns=[\"fips\", \"mmwr_week\", \"recip_county\", \"completeness_pct\",\"series_complete_pop_pct_svi\",\"series_complete_12pluspop_pct_svi\",\"series_complete_18pluspop_pct_svi\",\"series_complete_65pluspop_pct_svi\"])\n",
    "admin=admin.rename(columns={\"recip_state\":\"State\", \n",
    "                            \"series_complete_pop_pct\":\"%_Population_Vaccinated\", \n",
    "                            \"series_complete_yes\":\"Total_Population_Vaccinated\",\n",
    "                            \"series_complete_12plus\":\"Vaccinated_Population_Age12to17\", \n",
    "                            \"series_complete_12pluspop\":\"%_Population_Vaccinated_Age12to17\", \n",
    "                            \"series_complete_18plus\":\"Vaccinated_Population_Age18to64\",\n",
    "                            \"series_complete_18pluspop\":\"%_Population_Vaccinated_Age18to64\",\n",
    "                            \"series_complete_65plus\":\"Vaccinated_Population_Age65andup\",\n",
    "                            \"series_complete_65pluspop\":\"%_Population_Vaccinated_Age65andup\",\n",
    "                            \"administered_dose1_recip\":\"1st_dose_administered\",\n",
    "                            \"administered_dose1_pop_pct\":\"%_Population_1st_dose_administered\",\n",
    "                            \"administered_dose1_recip_12plus\":\"Population_1st_dose_administered_Age12to17\",\n",
    "                            \"administered_dose1_recip_12pluspop_pct\":\"%_Population_1st_dose_administered_Age12to17\",\n",
    "                            \"administered_dose1_recip_18plus\":\"Population_1st_dose_administered_Age18to64\",\n",
    "                            \"administered_dose1_recip_18pluspop_pct\":\"%_Population_1st_dose_administered_Age18to64\",\n",
    "                            \"administered_dose1_recip_65plus\":\"Population_1st_dose_administered_Age65andup\",\n",
    "                            \"administered_dose1_recip_65pluspop_pct\":\"%_Population_1st_dose_administered_Age65andup\",\n",
    "                            \"svi_ctgy\":\"Social_Vulnerability_Index\"})\n",
    "admin=admin.groupby('State').sum()\n",
    "admin=admin.reset_index()\n",
    "admin.to_sql('vaccine_administration', con=conn, if_exists=\"replace\")"
   ]
  },
  {
   "cell_type": "code",
   "execution_count": 9,
   "metadata": {},
   "outputs": [],
   "source": [
    "# The following is the moderna vaccine allocation by state file provided by the CDC\n",
    "json_file = \"https://data.cdc.gov/resource/b7pe-5nws.json\"\n",
    "moderna_df = pd.read_json(json_file)\n",
    "moderna_df=moderna_df.rename(columns={\"_1st_dose_allocations\":\"Moderna_1st_allocations\", \"_2nd_dose_allocations\":\"Moderna_2nd_allocations\"})\n",
    "# Grouping by jurisdiction to obtain the total allocation of vaccine\n",
    "moderna_df=moderna_df.groupby([\"jurisdiction\"]).sum()"
   ]
  },
  {
   "cell_type": "code",
   "execution_count": 10,
   "metadata": {},
   "outputs": [],
   "source": [
    "# The following is the pfizer vaccine allocation by state file provided by the CDC\n",
    "json_file = \"https://data.cdc.gov/resource/saz5-9hgg.json\"\n",
    "pfizer_df = pd.read_json(json_file)\n",
    "pfizer_df=pfizer_df.rename(columns={\"_1st_dose_allocations\":\"Pfizer_1st_allocations\", \"_2nd_dose_allocations\":\"Pfizer_2nd_allocations\"})\n",
    "pfizer_df=pfizer_df.groupby([\"jurisdiction\"]).sum()"
   ]
  },
  {
   "cell_type": "code",
   "execution_count": 11,
   "metadata": {},
   "outputs": [],
   "source": [
    "# The following is the Johnson vaccine allocation by state file provided by the CDC\n",
    "json_file = \"https://data.cdc.gov/resource/w9zu-fywh.json\"\n",
    "jnj = pd.read_json(json_file)\n",
    "jnj=jnj.rename(columns={\"_1st_dose_allocations\":\"J&J_1st_allocations\"})\n",
    "jnj=jnj.groupby([\"jurisdiction\"]).sum()"
   ]
  },
  {
   "cell_type": "code",
   "execution_count": 25,
   "metadata": {},
   "outputs": [],
   "source": [
    "#Merging moderna and pfizer and Johnson dataframes to show total allocations\n",
    "vaccine_df=pfizer_df.merge(moderna_df, how=\"outer\", on=\"jurisdiction\")\n",
    "vaccine_df=vaccine_df.merge(jnj,how=\"outer\", on=\"jurisdiction\")\n",
    "vaccine_df=vaccine_df.reset_index()\n",
    "vaccine_df=vaccine_df.rename(columns={\"jurisdiction\":\"state\"})\n",
    "vaccine_df.to_sql('vaccine_allocation', con=conn, if_exists=\"replace\")"
   ]
  },
  {
   "cell_type": "code",
   "execution_count": 26,
   "metadata": {
    "scrolled": true
   },
   "outputs": [],
   "source": [
    "# The following table show the number of deaths caused by covid and biforcates data by age group and underlying conditions and also provides the name of the state in which the tragedy occured\n",
    "\n",
    "json_file = \"https://data.cdc.gov/resource/hk9y-quqm.json\"\n",
    "cond_1_df = pd.read_json(json_file)\n",
    "cond_2_df = cond_1_df.drop(columns=[\"data_as_of\", \"start_date\", \"end_date\", \"group\", \"icd10_codes\", \"flag\", \"number_of_mentions\"])\n",
    "cond_2_df.to_sql('covid_death_tracker', con=conn, if_exists=\"replace\")"
   ]
  },
  {
   "cell_type": "code",
   "execution_count": 29,
   "metadata": {},
   "outputs": [],
   "source": [
    "# The following csv is for the population records of America obtained from the census bureau website\n",
    "csv_file = \"population.csv\"\n",
    "population_df = pd.read_csv(csv_file)\n",
    "pop_1_df=population_df.drop(columns=[\"growthSince2010\", \"Pop2010\", \"Pop2018\"])\n",
    "pop_2_df=pop_1_df.rename(columns={\"Percent\":\"percent_of_united_states\", \"density\":\"density_per_square_mile\"})\n",
    "pop_2_df.to_sql('population', con=conn, if_exists=\"replace\")"
   ]
  },
  {
   "cell_type": "code",
   "execution_count": 28,
   "metadata": {},
   "outputs": [],
   "source": [
    "# the following is a json file that includes the state names and their abbreviateions\n",
    "json_file = \"data.json\"\n",
    "states_df = pd.read_json(json_file)\n",
    "states_clean_df = states_df.drop(columns=\"Abbrev\")\n",
    "states_clean_df.to_sql('state_names', con=conn, if_exists=\"replace\")"
   ]
  },
  {
   "cell_type": "code",
   "execution_count": 22,
   "metadata": {},
   "outputs": [
    {
     "data": {
      "text/plain": [
       "[(0, 'Alabama', 'AL'),\n",
       " (1, 'Alaska', 'AK'),\n",
       " (2, 'Arizona', 'AZ'),\n",
       " (3, 'Arkansas', 'AR'),\n",
       " (4, 'California', 'CA'),\n",
       " (5, 'Colorado', 'CO'),\n",
       " (6, 'Connecticut', 'CT'),\n",
       " (7, 'Delaware', 'DE'),\n",
       " (8, 'District of Columbia', 'DC'),\n",
       " (9, 'Florida', 'FL'),\n",
       " (10, 'Georgia', 'GA'),\n",
       " (11, 'Hawaii', 'HI'),\n",
       " (12, 'Idaho', 'ID'),\n",
       " (13, 'Illinois', 'IL'),\n",
       " (14, 'Indiana', 'IN'),\n",
       " (15, 'Iowa', 'IA'),\n",
       " (16, 'Kansas', 'KS'),\n",
       " (17, 'Kentucky', 'KY'),\n",
       " (18, 'Louisiana', 'LA'),\n",
       " (19, 'Maine', 'ME'),\n",
       " (20, 'Maryland', 'MD'),\n",
       " (21, 'Massachusetts', 'MA'),\n",
       " (22, 'Michigan', 'MI'),\n",
       " (23, 'Minnesota', 'MN'),\n",
       " (24, 'Mississippi', 'MS'),\n",
       " (25, 'Missouri', 'MO'),\n",
       " (26, 'Montana', 'MT'),\n",
       " (27, 'Nebraska', 'NE'),\n",
       " (28, 'Nevada', 'NV'),\n",
       " (29, 'New Hampshire', 'NH'),\n",
       " (30, 'New Jersey', 'NJ'),\n",
       " (31, 'New Mexico', 'NM'),\n",
       " (32, 'New York', 'NY'),\n",
       " (33, 'North Carolina', 'NC'),\n",
       " (34, 'North Dakota', 'ND'),\n",
       " (35, 'Ohio', 'OH'),\n",
       " (36, 'Oklahoma', 'OK'),\n",
       " (37, 'Oregon', 'OR'),\n",
       " (38, 'Pennsylvania', 'PA'),\n",
       " (39, 'Rhode Island', 'RI'),\n",
       " (40, 'South Carolina', 'SC'),\n",
       " (41, 'South Dakota', 'SD'),\n",
       " (42, 'Tennessee', 'TN'),\n",
       " (43, 'Texas', 'TX'),\n",
       " (44, 'Utah', 'UT'),\n",
       " (45, 'Vermont', 'VT'),\n",
       " (46, 'Virginia', 'VA'),\n",
       " (47, 'Washington', 'WA'),\n",
       " (48, 'West Virginia', 'WV'),\n",
       " (49, 'Wisconsin', 'WI'),\n",
       " (50, 'Wyoming', 'WY')]"
      ]
     },
     "execution_count": 22,
     "metadata": {},
     "output_type": "execute_result"
    }
   ],
   "source": [
    "# verifying data pushed to sqlite file\n",
    "engine = create_engine(\"sqlite:///covid.sqlite\")\n",
    "engine.execute(\"Select * From state_names\").fetchall()"
   ]
  },
  {
   "cell_type": "code",
   "execution_count": null,
   "metadata": {},
   "outputs": [],
   "source": []
  },
  {
   "cell_type": "code",
   "execution_count": null,
   "metadata": {},
   "outputs": [],
   "source": []
  }
 ],
 "metadata": {
  "kernelspec": {
   "display_name": "Python 3",
   "language": "python",
   "name": "python3"
  },
  "language_info": {
   "codemirror_mode": {
    "name": "ipython",
    "version": 3
   },
   "file_extension": ".py",
   "mimetype": "text/x-python",
   "name": "python",
   "nbconvert_exporter": "python",
   "pygments_lexer": "ipython3",
   "version": "3.8.5"
  }
 },
 "nbformat": 4,
 "nbformat_minor": 4
}
